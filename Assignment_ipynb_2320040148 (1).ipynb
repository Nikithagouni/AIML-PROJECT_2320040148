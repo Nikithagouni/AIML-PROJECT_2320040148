{
  "nbformat": 4,
  "nbformat_minor": 0,
  "metadata": {
    "colab": {
      "provenance": []
    },
    "kernelspec": {
      "name": "python3",
      "display_name": "Python 3"
    },
    "language_info": {
      "name": "python"
    }
  },
  "cells": [
    {
      "cell_type": "code",
      "execution_count": null,
      "metadata": {
        "id": "WkBtLFlfHVYZ"
      },
      "outputs": [],
      "source": []
    },
    {
      "cell_type": "markdown",
      "source": [
        "bfs"
      ],
      "metadata": {
        "id": "YnSMMuywHXfp"
      }
    },
    {
      "cell_type": "code",
      "source": [
        "from collections import deque\n",
        "\n",
        "def bfs(g, start):\n",
        "    visited = set()\n",
        "    queue = deque([start])\n",
        "    while queue:\n",
        "        node = queue.popleft()\n",
        "        if node not in visited:\n",
        "            print(node)\n",
        "            visited.add(node)\n",
        "            for n in g[node]:\n",
        "                if n not in visited:\n",
        "                    queue.append(n)\n",
        "\n",
        "# New graph with different values\n",
        "g = {\n",
        "    'A': ['B', 'C'],\n",
        "    'B': ['A', 'D', 'E'],\n",
        "    'C': ['A', 'E'],\n",
        "    'D': ['B', 'F'],\n",
        "    'E': ['B', 'C'],\n",
        "    'F': ['D']\n",
        "}\n",
        "\n",
        "bfs(g, 'A')"
      ],
      "metadata": {
        "colab": {
          "base_uri": "https://localhost:8080/"
        },
        "id": "HNR44uZLIGol",
        "outputId": "6b955dcc-6e25-44a0-c5cb-c5cd269b285c"
      },
      "execution_count": 2,
      "outputs": [
        {
          "output_type": "stream",
          "name": "stdout",
          "text": [
            "A\n",
            "B\n",
            "C\n",
            "D\n",
            "E\n",
            "F\n"
          ]
        }
      ]
    },
    {
      "cell_type": "markdown",
      "source": [
        "dfs"
      ],
      "metadata": {
        "id": "XDl17xQAISPZ"
      }
    },
    {
      "cell_type": "code",
      "source": [
        "def dfs(g, start):\n",
        "    visited = set()\n",
        "    stack = [start]\n",
        "\n",
        "    while stack:\n",
        "        node = stack.pop()\n",
        "        if node not in visited:\n",
        "            print(node)\n",
        "            visited.add(node)\n",
        "            stack.extend(reversed(g[node]))\n",
        "\n",
        "# New graph with different values\n",
        "g = {\n",
        "    'A': ['B', 'C'],\n",
        "    'B': ['A', 'D', 'E'],\n",
        "    'C': ['A', 'F'],\n",
        "    'D': ['B'],\n",
        "    'E': ['B', 'G'],\n",
        "    'F': ['C'],\n",
        "    'G': ['E']\n",
        "}\n",
        "\n",
        "dfs(g, 'A')\n"
      ],
      "metadata": {
        "colab": {
          "base_uri": "https://localhost:8080/"
        },
        "id": "VeeLuWovIVeh",
        "outputId": "bf40195c-b983-4bee-e816-385b03e19e79"
      },
      "execution_count": 3,
      "outputs": [
        {
          "output_type": "stream",
          "name": "stdout",
          "text": [
            "A\n",
            "B\n",
            "D\n",
            "E\n",
            "G\n",
            "C\n",
            "F\n"
          ]
        }
      ]
    },
    {
      "cell_type": "markdown",
      "source": [
        "iddfs"
      ],
      "metadata": {
        "id": "WQA6sengIron"
      }
    },
    {
      "cell_type": "code",
      "source": [
        "def iddfs(g, start, max_depth):\n",
        "    def dfs(node, depth, visited):\n",
        "        if depth == 0:\n",
        "            return\n",
        "        print(node)\n",
        "        visited.add(node)\n",
        "        for neighbor in g[node]:\n",
        "            if neighbor not in visited:\n",
        "                dfs(neighbor, depth - 1, visited)\n",
        "\n",
        "    for depth in range(1, max_depth + 1):\n",
        "        print(f\"Depth {depth}:\")\n",
        "        visited = set()\n",
        "        dfs(start, depth, visited)\n",
        "        print()\n",
        "\n",
        "# New graph with letters as nodes\n",
        "g = {\n",
        "    'A': ['B', 'C'],\n",
        "    'B': ['A', 'D', 'E'],\n",
        "    'C': ['A', 'F'],\n",
        "    'D': ['B'],\n",
        "    'E': ['B', 'G'],\n",
        "    'F': ['C'],\n",
        "    'G': ['E']\n",
        "}\n",
        "\n",
        "# Start IDDFS from node 'A' with a maximum depth limit of 3\n",
        "iddfs(g, 'A', 3)"
      ],
      "metadata": {
        "colab": {
          "base_uri": "https://localhost:8080/"
        },
        "id": "BUDbb2t6IwPg",
        "outputId": "34bb4821-60b2-44a6-f009-247533004de7"
      },
      "execution_count": 4,
      "outputs": [
        {
          "output_type": "stream",
          "name": "stdout",
          "text": [
            "Depth 1:\n",
            "A\n",
            "\n",
            "Depth 2:\n",
            "A\n",
            "B\n",
            "C\n",
            "\n",
            "Depth 3:\n",
            "A\n",
            "B\n",
            "D\n",
            "E\n",
            "C\n",
            "F\n",
            "\n"
          ]
        }
      ]
    },
    {
      "cell_type": "markdown",
      "source": [
        "Informed search technique(A*,Best first search)"
      ],
      "metadata": {
        "id": "BiOm1y9hJC0t"
      }
    },
    {
      "cell_type": "code",
      "source": [
        "import heapq\n",
        "\n",
        "def astar(graph, start, goal, h):\n",
        "    queue = [(h[start], start, 0)]\n",
        "    visited = set()\n",
        "    while queue:\n",
        "        f, node, g = heapq.heappop(queue)\n",
        "        if node in visited:\n",
        "            continue\n",
        "        print(node)\n",
        "        visited.add(node)\n",
        "        if node == goal:\n",
        "            break\n",
        "        for neighbor, cost in graph[node]:\n",
        "            if neighbor not in visited:\n",
        "                new_g = g + cost\n",
        "                new_f = new_g + h[neighbor]\n",
        "                heapq.heappush(queue, (new_f, neighbor, new_g))\n",
        "\n",
        "# New graph (neighbor, cost) pairs\n",
        "graph = {\n",
        "    'A': [('B', 2), ('C', 5)],\n",
        "    'B': [('D', 3), ('E', 1)],\n",
        "    'C': [('E', 2)],\n",
        "    'D': [('F', 4)],\n",
        "    'E': [('F', 2)],\n",
        "    'F': []\n",
        "}\n",
        "# New heuristic function\n",
        "h = {\n",
        "    'A': 6,\n",
        "    'B': 4,\n",
        "    'C': 3,\n",
        "    'D': 5,\n",
        "    'E': 2,\n",
        "    'F': 0\n",
        "}\n",
        "\n",
        "astar(graph, 'A', 'F', h)"
      ],
      "metadata": {
        "colab": {
          "base_uri": "https://localhost:8080/"
        },
        "id": "qlQDUFq3JIcd",
        "outputId": "1de186d9-9f71-4866-91ea-05f265b180a2"
      },
      "execution_count": 5,
      "outputs": [
        {
          "output_type": "stream",
          "name": "stdout",
          "text": [
            "A\n",
            "B\n",
            "E\n",
            "F\n"
          ]
        }
      ]
    },
    {
      "cell_type": "code",
      "source": [
        "import heapq\n",
        "\n",
        "def best_first_search(graph, start, goal, h):\n",
        "    queue = [(h[start], start)]\n",
        "    visited = set()\n",
        "\n",
        "    while queue:\n",
        "        _, node = heapq.heappop(queue)\n",
        "        if node in visited:\n",
        "            continue\n",
        "        print(node)\n",
        "        visited.add(node)\n",
        "        if node == goal:\n",
        "            break\n",
        "        for neighbor, _ in graph[node]:\n",
        "            if neighbor not in visited:\n",
        "                heapq.heappush(queue, (h[neighbor], neighbor))\n",
        "\n",
        "# New graph (neighbor, cost) pairs\n",
        "graph = {\n",
        "    'A': [('B', 3), ('C', 6)],\n",
        "    'B': [('D', 2), ('E', 4)],\n",
        "    'C': [('E', 3)],\n",
        "    'D': [('F', 5)],\n",
        "    'E': [('F', 2)],\n",
        "    'F': []\n",
        "}\n",
        "\n",
        "# New heuristic function\n",
        "h = {\n",
        "    'A': 7,\n",
        "    'B': 5,\n",
        "    'C': 4,\n",
        "    'D': 6,\n",
        "    'E': 3,\n",
        "    'F': 0\n",
        "}\n",
        "\n",
        "best_first_search(graph, 'A', 'F', h)\n",
        "# New heuristic function\n",
        "h = {\n",
        "    'A': 7,\n",
        "    'B': 5,\n",
        "    'C': 4,\n",
        "    'D': 6,\n",
        "    'E': 3,\n",
        "    'F': 0\n",
        "}\n",
        "\n",
        "best_first_search(graph, 'A', 'F', h)"
      ],
      "metadata": {
        "colab": {
          "base_uri": "https://localhost:8080/"
        },
        "id": "TkPqOTJIJlVq",
        "outputId": "ae562440-849a-4e68-b31d-5f430f47cae4"
      },
      "execution_count": 8,
      "outputs": [
        {
          "output_type": "stream",
          "name": "stdout",
          "text": [
            "A\n",
            "C\n",
            "E\n",
            "F\n",
            "A\n",
            "C\n",
            "E\n",
            "F\n"
          ]
        }
      ]
    }
  ]
}